{
 "cells": [
  {
   "cell_type": "code",
   "execution_count": 1,
   "id": "4c9c9274",
   "metadata": {},
   "outputs": [],
   "source": [
    "from relaylab import equipment as eqp, signals as sg, record, characteristics, functions as func\n",
    "from relaylab.signals import color\n",
    "import plotly.graph_objects as go\n",
    "from plotly.subplots import make_subplots\n",
    "import numpy as np"
   ]
  },
  {
   "cell_type": "markdown",
   "id": "761ef7d0",
   "metadata": {},
   "source": [
    "### Отображение комплексного сигнала на векторной диаграмме"
   ]
  },
  {
   "cell_type": "code",
   "execution_count": 4,
   "id": "b4a9cd72",
   "metadata": {},
   "outputs": [],
   "source": [
    "i = sg.transient(name='IA', val_load=1, fi_load=0, val_fault=5, fi_fault=-90, tau=0.03, tfault=0.04, tmax=0.1,\n",
    "               f=50, Fs=1200)\n",
    "i_dft = i.dft()"
   ]
  },
  {
   "cell_type": "code",
   "execution_count": 5,
   "id": "147337d3",
   "metadata": {},
   "outputs": [
    {
     "data": {
      "application/vnd.jupyter.widget-view+json": {
       "model_id": "af6830c9d3a4445f8b817a86964ea17a",
       "version_major": 2,
       "version_minor": 0
      },
      "text/plain": [
       "FigureWidget({\n",
       "    'data': [{'line': {'color': '#0095B6'},\n",
       "              'mode': 'lines+markers',\n",
       "              'name': 'IA',\n",
       "              'type': 'scatter',\n",
       "              'uid': 'c5dee4e0-107d-4a0e-8e0c-bf87818d79ea',\n",
       "              'x': array([0.        , 0.00083333, 0.00166667, 0.0025    , 0.00333333, 0.00416667,\n",
       "                          0.005     , 0.00583333, 0.00666667, 0.0075    , 0.00833333, 0.00916667,\n",
       "                          0.01      , 0.01083333, 0.01166667, 0.0125    , 0.01333333, 0.01416667,\n",
       "                          0.015     , 0.01583333, 0.01666667, 0.0175    , 0.01833333, 0.01916667,\n",
       "                          0.02      , 0.02083333, 0.02166667, 0.0225    , 0.02333333, 0.02416667,\n",
       "                          0.025     , 0.02583333, 0.02666667, 0.0275    , 0.02833333, 0.02916667,\n",
       "                          0.03      , 0.03083333, 0.03166667, 0.0325    , 0.03333333, 0.03416667,\n",
       "                          0.035     , 0.03583333, 0.03666667, 0.0375    , 0.03833333, 0.03916667,\n",
       "                          0.04      , 0.04083333, 0.04166667, 0.0425    , 0.04333333, 0.04416667,\n",
       "                          0.045     , 0.04583333, 0.04666667, 0.0475    , 0.04833333, 0.04916667,\n",
       "                          0.05      , 0.05083333, 0.05166667, 0.0525    , 0.05333333, 0.05416667,\n",
       "                          0.055     , 0.05583333, 0.05666667, 0.0575    , 0.05833333, 0.05916667,\n",
       "                          0.06      , 0.06083333, 0.06166667, 0.0625    , 0.06333333, 0.06416667,\n",
       "                          0.065     , 0.06583333, 0.06666667, 0.0675    , 0.06833333, 0.06916667,\n",
       "                          0.07      , 0.07083333, 0.07166667, 0.0725    , 0.07333333, 0.07416667,\n",
       "                          0.075     , 0.07583333, 0.07666667, 0.0775    , 0.07833333, 0.07916667,\n",
       "                          0.08      , 0.08083333, 0.08166667, 0.0825    , 0.08333333, 0.08416667,\n",
       "                          0.085     , 0.08583333, 0.08666667, 0.0875    , 0.08833333, 0.08916667,\n",
       "                          0.09      , 0.09083333, 0.09166667, 0.0925    , 0.09333333, 0.09416667,\n",
       "                          0.095     , 0.09583333, 0.09666667, 0.0975    , 0.09833333, 0.09916667]),\n",
       "              'xaxis': 'x',\n",
       "              'y': array([ 0.00000000e+00,  3.66025404e-01,  7.07106781e-01,  1.00000000e+00,\n",
       "                           1.22474487e+00,  1.36602540e+00,  1.41421356e+00,  1.36602540e+00,\n",
       "                           1.22474487e+00,  1.00000000e+00,  7.07106781e-01,  3.66025404e-01,\n",
       "                           1.73191211e-16, -3.66025404e-01, -7.07106781e-01, -1.00000000e+00,\n",
       "                          -1.22474487e+00, -1.36602540e+00, -1.41421356e+00, -1.36602540e+00,\n",
       "                          -1.22474487e+00, -1.00000000e+00, -7.07106781e-01, -3.66025404e-01,\n",
       "                          -3.46382422e-16,  3.66025404e-01,  7.07106781e-01,  1.00000000e+00,\n",
       "                           1.22474487e+00,  1.36602540e+00,  1.41421356e+00,  1.36602540e+00,\n",
       "                           1.22474487e+00,  1.00000000e+00,  7.07106781e-01,  3.66025404e-01,\n",
       "                          -1.99257430e-15, -3.66025404e-01, -7.07106781e-01, -1.00000000e+00,\n",
       "                          -1.22474487e+00, -1.36602540e+00, -1.41421356e+00, -1.36602540e+00,\n",
       "                          -1.22474487e+00, -1.00000000e+00, -7.07106781e-01, -3.66025404e-01,\n",
       "                          -6.92764845e-16,  4.72251929e-02,  5.65219195e-01,  1.50569645e+00,\n",
       "                           2.79193558e+00,  4.32399814e+00,  5.98552968e+00,  7.65167998e+00,\n",
       "                           9.19760238e+00,  1.05069531e+01,  1.14798116e+01,  1.20394815e+01,\n",
       "                           1.21377093e+01,  1.17579652e+01,  1.09165618e+01,  9.66153520e+00,\n",
       "                           8.06936391e+00,  6.23975038e+00,  4.28881942e+00,  2.34119796e+00,\n",
       "                           5.21515439e-01, -1.05409564e+00, -2.28592011e+00, -3.09746143e+00,\n",
       "                          -3.44066055e+00, -3.29917666e+00, -2.68950623e+00, -1.65986407e+00,\n",
       "                          -2.86902750e-01,  1.32950619e+00,  3.07307340e+00,  4.81901197e+00,\n",
       "                           6.44253679e+00,  7.82736402e+00,  8.87363126e+00,  9.50469879e+00,\n",
       "                           9.67236829e+00,  9.36016351e+00,  8.58444917e+00,  7.39331197e+00,\n",
       "                           5.86327985e+00,  4.09410314e+00,  2.20195331e+00,  3.11502632e-01,\n",
       "                          -1.45257532e+00, -2.97410515e+00, -4.15332996e+00, -4.91371261e+00,\n",
       "                          -5.20715457e+00, -5.01727666e+00, -4.36053798e+00, -3.28511704e+00,\n",
       "                          -1.86763106e+00, -2.07917241e-01,  1.57776849e+00,  3.36467172e+00,\n",
       "                           5.02803895e+00,  6.45161709e+00,  7.53557364e+00,  8.20329795e+00,\n",
       "                           8.40662001e+00,  8.12909106e+00,  7.38710260e+00,  6.22876734e+00,\n",
       "                           4.73063852e+00,  2.99249112e+00,  1.13052053e+00, -7.30577694e-01,\n",
       "                          -2.46610731e+00, -3.95987090e+00, -5.11209014e+00, -5.84620705e+00]),\n",
       "              'yaxis': 'y'},\n",
       "             {'marker': {'angleref': 'previous', 'color': '#0095B6', 'size': 15, 'symbol': 'arrow'},\n",
       "              'mode': 'lines+markers',\n",
       "              'name': 'DFT IA',\n",
       "              'r': [0, 0],\n",
       "              'subplot': 'polar',\n",
       "              'theta': [0, 0],\n",
       "              'type': 'scatterpolar',\n",
       "              'uid': 'a764a499-be73-45ee-83dc-0b8d62ba4d63'}],\n",
       "    'layout': {'height': 500,\n",
       "               'polar': {'angularaxis': {'direction': 'counterclockwise',\n",
       "                                         'dtick': 30,\n",
       "                                         'rotation': 90,\n",
       "                                         'thetaunit': 'degrees'},\n",
       "                         'domain': {'x': [0.73, 1.0], 'y': [0.0, 1.0]}},\n",
       "               'shapes': [{'line': {'color': '#E32636'},\n",
       "                           'type': 'line',\n",
       "                           'x0': 0.05,\n",
       "                           'x1': 0.05,\n",
       "                           'xref': 'x',\n",
       "                           'y0': 0,\n",
       "                           'y1': 1,\n",
       "                           'yref': 'paper'}],\n",
       "               'template': '...',\n",
       "               'xaxis': {'anchor': 'y', 'domain': [0.0, 0.63]},\n",
       "               'yaxis': {'anchor': 'x', 'domain': [0.0, 1.0]}}\n",
       "})"
      ]
     },
     "execution_count": 5,
     "metadata": {},
     "output_type": "execute_result"
    }
   ],
   "source": [
    "fig = make_subplots(rows=1, cols=2, column_widths=[0.7, 0.3], specs=[[{\"type\": \"xy\"}, {\"type\": \"polar\"}]])\n",
    "\n",
    "fig.add_trace(go.Scatter(i.plt_data, mode=\"lines+markers\", line=dict(color=color.blue)), row=1, col=1)\n",
    "fig.add_trace(go.Scatterpolar(name=i_dft.name, r=[0, 0], theta=[0, 0], \n",
    "                              mode=\"lines+markers\",\n",
    "                                marker=dict(size=15, color=color.blue, symbol=\"arrow\", angleref=\"previous\"),\n",
    "                                 ), row=1, col=2)\n",
    "\n",
    "fig.update_layout(template='plotly_white', height=500, \n",
    "                  shapes=[dict(type= 'line', line= dict(color=color.red_deep), \n",
    "                               yref= 'paper', y0= 0, y1= 1, \n",
    "                               xref= 'x', x0= 0.05, x1= 0.05)],\n",
    "                polar=dict(angularaxis=dict(thetaunit=\"degrees\", dtick=30, rotation=90,direction='counterclockwise'))\n",
    "                 )\n",
    "\n",
    "# Интерактивность\n",
    "fig_widget = go.FigureWidget(fig)\n",
    "scatter = fig_widget.data[0]\n",
    "polar = fig_widget.data[-1]\n",
    "\n",
    "def update_point(trace, points, selector):\n",
    "    if len(points.point_inds) != 0:\n",
    "        ind = points.point_inds[0]\n",
    "        kfi = 1 # np.exp(-1j*np.pi * 50 / i_dft.Fs)\n",
    "        polar.theta = (0, (i_dft*kfi).angle_deg().val[ind])\n",
    "        polar.r = (0, np.abs(i_dft.val[ind]))\n",
    "        fig_widget.update_layout(shapes=[dict(x0= points.xs[0], x1= points.xs[0])])\n",
    "\n",
    "scatter.on_click(update_point)\n",
    "fig_widget"
   ]
  },
  {
   "cell_type": "code",
   "execution_count": null,
   "id": "f23b54d0",
   "metadata": {},
   "outputs": [],
   "source": []
  }
 ],
 "metadata": {
  "kernelspec": {
   "display_name": "Python 3 (ipykernel)",
   "language": "python",
   "name": "python3"
  },
  "language_info": {
   "codemirror_mode": {
    "name": "ipython",
    "version": 3
   },
   "file_extension": ".py",
   "mimetype": "text/x-python",
   "name": "python",
   "nbconvert_exporter": "python",
   "pygments_lexer": "ipython3",
   "version": "3.9.13"
  }
 },
 "nbformat": 4,
 "nbformat_minor": 5
}
