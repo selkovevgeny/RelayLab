{
 "cells": [
  {
   "cell_type": "code",
   "execution_count": 1,
   "id": "049f4047",
   "metadata": {},
   "outputs": [],
   "source": [
    "from relaylab import equipment as eqp, signals as sg, record, characteristics, functions as func\n",
    "from relaylab.signals import color\n",
    "import plotly.graph_objects as go\n",
    "from plotly.subplots import make_subplots\n",
    "import numpy as np"
   ]
  },
  {
   "cell_type": "markdown",
   "id": "57f65a97",
   "metadata": {},
   "source": [
    "# Анализ работы дифференциальной защиты трансформатора"
   ]
  },
  {
   "cell_type": "markdown",
   "id": "b004aa66",
   "metadata": {},
   "source": [
    "### Ввод параметров электрооборудования"
   ]
  },
  {
   "cell_type": "code",
   "execution_count": 2,
   "id": "1a695939",
   "metadata": {},
   "outputs": [],
   "source": [
    "tr = eqp.Transformer(16000, 115, 11, Usc=0.105, scheme_high='Y', scheme_low='D', group=11)\n",
    "ct_vn = eqp.CT(500, 5, Knom=10, Snom=10, cos_nom=0.8,  r2=0.06, x2=0.02, Sload=5, cos_load=0.8)\n",
    "ct_nn = eqp.CT(1500, 5, Knom=15, Snom=20, cos_nom=0.8,  r2=0.15, x2=0, Sload=5, cos_load=0.8)\n",
    "dif_har = characteristics.DifRelay(start=0.2, slope_st1=0.5, slope1=0.1, slope_st2=1.5, slope2=0.3)"
   ]
  },
  {
   "cell_type": "markdown",
   "id": "05954510",
   "metadata": {},
   "source": [
    "### Загрузка осциллограммы"
   ]
  },
  {
   "cell_type": "code",
   "execution_count": 3,
   "id": "3d58599e",
   "metadata": {},
   "outputs": [
    {
     "name": "stdout",
     "output_type": "stream",
     "text": [
      "Наименование осциллограммы: C:\\python\\RelayLab\\relaylab\\records\\transformer_short_circuit_out_zone.cfg\n",
      "Ревизия стандарта: 2000\n",
      "Объект установки устройства: \n",
      "Наименование устройства: КИТ-Р-А3-ДЗТ-01_00 версия 1701159520\n",
      "Начало записи: 2023-11-29 14:22:18.353000\n",
      "Длительность записи: 2.10, c\n",
      "Количество аналоговых каналов: 7\n",
      "Количество дискретных каналов: 79\n"
     ]
    }
   ],
   "source": [
    "rec = record.examples.transformer_short_circuit_out_zone\n",
    "print(rec)"
   ]
  },
  {
   "cell_type": "code",
   "execution_count": 9,
   "id": "5e42cc05",
   "metadata": {},
   "outputs": [
    {
     "data": {
      "text/html": [
       "<style type=\"text/css\">\n",
       "</style>\n",
       "<table id=\"T_137da\">\n",
       "  <thead>\n",
       "    <tr>\n",
       "      <th class=\"blank level0\" >&nbsp;</th>\n",
       "      <th id=\"T_137da_level0_col0\" class=\"col_heading level0 col0\" >min</th>\n",
       "      <th id=\"T_137da_level0_col1\" class=\"col_heading level0 col1\" >max</th>\n",
       "    </tr>\n",
       "  </thead>\n",
       "  <tbody>\n",
       "    <tr>\n",
       "      <th id=\"T_137da_level0_row0\" class=\"row_heading level0 row0\" >IA ВН</th>\n",
       "      <td id=\"T_137da_row0_col0\" class=\"data row0 col0\" >0.000</td>\n",
       "      <td id=\"T_137da_row0_col1\" class=\"data row0 col1\" >5.224</td>\n",
       "    </tr>\n",
       "    <tr>\n",
       "      <th id=\"T_137da_level0_row1\" class=\"row_heading level0 row1\" >IВ ВН</th>\n",
       "      <td id=\"T_137da_row1_col0\" class=\"data row1 col0\" >0.000</td>\n",
       "      <td id=\"T_137da_row1_col1\" class=\"data row1 col1\" >5.258</td>\n",
       "    </tr>\n",
       "    <tr>\n",
       "      <th id=\"T_137da_level0_row2\" class=\"row_heading level0 row2\" >IС ВН</th>\n",
       "      <td id=\"T_137da_row2_col0\" class=\"data row2 col0\" >0.000</td>\n",
       "      <td id=\"T_137da_row2_col1\" class=\"data row2 col1\" >5.380</td>\n",
       "    </tr>\n",
       "    <tr>\n",
       "      <th id=\"T_137da_level0_row3\" class=\"row_heading level0 row3\" >IA НН</th>\n",
       "      <td id=\"T_137da_row3_col0\" class=\"data row3 col0\" >0.000</td>\n",
       "      <td id=\"T_137da_row3_col1\" class=\"data row3 col1\" >18.504</td>\n",
       "    </tr>\n",
       "    <tr>\n",
       "      <th id=\"T_137da_level0_row4\" class=\"row_heading level0 row4\" >IВ НН</th>\n",
       "      <td id=\"T_137da_row4_col0\" class=\"data row4 col0\" >0.000</td>\n",
       "      <td id=\"T_137da_row4_col1\" class=\"data row4 col1\" >18.650</td>\n",
       "    </tr>\n",
       "    <tr>\n",
       "      <th id=\"T_137da_level0_row5\" class=\"row_heading level0 row5\" >IС НН</th>\n",
       "      <td id=\"T_137da_row5_col0\" class=\"data row5 col0\" >0.000</td>\n",
       "      <td id=\"T_137da_row5_col1\" class=\"data row5 col1\" >20.641</td>\n",
       "    </tr>\n",
       "    <tr>\n",
       "      <th id=\"T_137da_level0_row6\" class=\"row_heading level0 row6\" >Freq</th>\n",
       "      <td id=\"T_137da_row6_col0\" class=\"data row6 col0\" >0.000</td>\n",
       "      <td id=\"T_137da_row6_col1\" class=\"data row6 col1\" >0.000</td>\n",
       "    </tr>\n",
       "  </tbody>\n",
       "</table>\n"
      ],
      "text/plain": [
       "<pandas.io.formats.style.Styler at 0x1f19a3baaf0>"
      ]
     },
     "execution_count": 9,
     "metadata": {},
     "output_type": "execute_result"
    }
   ],
   "source": [
    "rec.describe_analogs()"
   ]
  },
  {
   "cell_type": "markdown",
   "id": "204592c7",
   "metadata": {},
   "source": [
    "### Расчет дифференциальных токов"
   ]
  },
  {
   "cell_type": "code",
   "execution_count": 10,
   "id": "1e28bd70",
   "metadata": {},
   "outputs": [],
   "source": [
    "IA1, IB1, IC1 = rec.IA_VN, rec.IV_VN, rec.IS_VN\n",
    "IA2, IB2, IC2 = rec.IA_NN, rec.IV_NN, rec.IS_NN"
   ]
  },
  {
   "cell_type": "code",
   "execution_count": 11,
   "id": "df0f7c13",
   "metadata": {},
   "outputs": [],
   "source": [
    "IdifA, IdifB, IdifC, IbiasA, IbiasB, IbiasC = func.dif_two_winding_transformer(IA1, IB1, IC1,IA2, IB2, IC2,\n",
    "                                                                             transformer=tr, CT_high=ct_vn, CT_low=ct_nn)\n",
    "har_points = dif_har.get_points()"
   ]
  },
  {
   "cell_type": "code",
   "execution_count": 12,
   "id": "60e95c14",
   "metadata": {},
   "outputs": [
    {
     "data": {
      "application/vnd.jupyter.widget-view+json": {
       "model_id": "b9c2f60cdd004a79909358986b8a15f0",
       "version_major": 2,
       "version_minor": 0
      },
      "text/plain": [
       "FigureWidget({\n",
       "    'data': [{'line': {'color': '#F3A505'},\n",
       "              'name': 'abs(DFT IдифA)',\n",
       "              'type': 'scatter',\n",
       "              'uid': '2abb19bb-2b9b-445a-ada5-3b8d096aa5e9',\n",
       "              'x': array([0.00000000e+00, 4.16666667e-04, 8.33333333e-04, ..., 2.10375000e+00,\n",
       "                          2.10416667e+00, 2.10458333e+00]),\n",
       "              'xaxis': 'x',\n",
       "              'y': array([0.        , 0.        , 0.        , ..., 0.00195595, 0.00258074,\n",
       "                          0.00258074]),\n",
       "              'yaxis': 'y'},\n",
       "             {'line': {'color': '#0095B6'},\n",
       "              'name': 'IтормA',\n",
       "              'type': 'scatter',\n",
       "              'uid': 'b7b9ab87-7249-409e-9dc8-c3c5e5e1d18e',\n",
       "              'x': array([0.00000000e+00, 4.16666667e-04, 8.33333333e-04, ..., 2.10375000e+00,\n",
       "                          2.10416667e+00, 2.10458333e+00]),\n",
       "              'xaxis': 'x',\n",
       "              'y': array([0.        , 0.        , 0.        , ..., 0.0011024 , 0.00138495,\n",
       "                          0.00138495]),\n",
       "              'yaxis': 'y'},\n",
       "             {'line': {'color': '#F3A505'},\n",
       "              'name': 'Iдиф',\n",
       "              'type': 'scatter',\n",
       "              'uid': '9989a1f1-6864-49aa-ae9e-94f866ca1ac8',\n",
       "              'x': array([0.        , 0.        , 0.        , ..., 0.0011024 , 0.00138495,\n",
       "                          0.00138495]),\n",
       "              'xaxis': 'x2',\n",
       "              'y': array([0.        , 0.        , 0.        , ..., 0.00195595, 0.00258074,\n",
       "                          0.00258074]),\n",
       "              'yaxis': 'y2'},\n",
       "             {'line': {'color': '#888b8c'},\n",
       "              'mode': 'lines',\n",
       "              'name': 'Характеристика',\n",
       "              'type': 'scatter',\n",
       "              'uid': '4aa5836b-132f-494a-bff1-96e1ff9afb62',\n",
       "              'x': array([ 0. ,  0.5,  1.5, 10. ]),\n",
       "              'xaxis': 'x2',\n",
       "              'y': array([0.2 , 0.2 , 0.3 , 2.85]),\n",
       "              'yaxis': 'y2'},\n",
       "             {'marker': {'color': '#F3A505', 'size': 10},\n",
       "              'mode': 'markers',\n",
       "              'name': 'Iдиф',\n",
       "              'type': 'scatter',\n",
       "              'uid': 'bed00369-46fe-4b43-870f-6826a148f759',\n",
       "              'x': array([0]),\n",
       "              'xaxis': 'x2',\n",
       "              'y': array([0]),\n",
       "              'yaxis': 'y2'}],\n",
       "    'layout': {'height': 400,\n",
       "               'shapes': [{'line': {'color': '#E32636'},\n",
       "                           'type': 'line',\n",
       "                           'x0': 0.05,\n",
       "                           'x1': 0.05,\n",
       "                           'xref': 'x',\n",
       "                           'y0': 0,\n",
       "                           'y1': 1,\n",
       "                           'yref': 'paper'}],\n",
       "               'template': '...',\n",
       "               'xaxis': {'anchor': 'y', 'domain': [0.0, 0.63]},\n",
       "               'xaxis2': {'anchor': 'y2', 'domain': [0.73, 1.0], 'range': [0, 6.605548503133496]},\n",
       "               'yaxis': {'anchor': 'x', 'domain': [0.0, 1.0]},\n",
       "               'yaxis2': {'anchor': 'x2', 'domain': [0.0, 1.0], 'range': [0, 6.605548503133496]}}\n",
       "})"
      ]
     },
     "execution_count": 12,
     "metadata": {},
     "output_type": "execute_result"
    }
   ],
   "source": [
    "fig = make_subplots(rows=1, cols=2, column_widths=[0.7, 0.3], specs=[[{\"type\": \"xy\"}, {\"type\": \"xy\"}]])\n",
    "\n",
    "fig.add_trace(go.Scatter(IdifA.dft_abs().plt_data, line=dict(color=color.orange)),row=1, col=1)\n",
    "fig.add_trace(go.Scatter(IbiasA.plt_data, line=dict(color=color.blue)),row=1, col=1)\n",
    "fig.add_trace(go.Scatter(name='Iдиф', x=IbiasA.val, y=IdifA.dft_abs().val,\n",
    "                         line=dict(color=color.orange)), row=1, col=2)\n",
    "fig.add_trace(go.Scatter(name='Характеристика', x=har_points[0], y=har_points[1], \n",
    "                         mode='lines', line=dict(color=color.grey)),\n",
    "              row=1, col=2)\n",
    "\n",
    "fig.add_trace(go.Scatter(name='Iдиф', x=np.array([0]), y=np.array([0]),\n",
    "                         mode='markers', marker=dict(color=color.orange, size=10)),\n",
    "              row=1, col=2)\n",
    "\n",
    "fig.update_layout(template='plotly_white', height=400,\n",
    "                  shapes=[dict(type= 'line', line= dict(color=color.red_deep),\n",
    "                               yref= 'paper', y0= 0, y1= 1,\n",
    "                               xref= 'x', x0= 0.05, x1= 0.05)],\n",
    "                  xaxis2=dict(range=[0, max(IbiasA.val)]), yaxis2=dict(range=[0, max(IbiasA.val)]),\n",
    "                 )\n",
    "\n",
    "# Интерактивность графика\n",
    "fig_widget = go.FigureWidget(fig)\n",
    "scatter1 = fig_widget.data[0]\n",
    "scatter2 = fig_widget.data[1]\n",
    "point = fig_widget.data[-1]\n",
    "\n",
    "def update_point(trace, points, selector):\n",
    "    if len(points.point_inds) != 0:\n",
    "        ind = points.point_inds[0]\n",
    "        fig_widget.update_layout(shapes=[dict(x0= points.xs[0], x1= points.xs[0])])\n",
    "        point.x = np.array(IbiasA.val[ind])\n",
    "        point.y = np.array(IdifA.dft_abs().val[ind])\n",
    "\n",
    "scatter1.on_click(update_point)\n",
    "scatter2.on_click(update_point)\n",
    "fig_widget"
   ]
  },
  {
   "cell_type": "code",
   "execution_count": null,
   "id": "c6b15830",
   "metadata": {},
   "outputs": [],
   "source": []
  }
 ],
 "metadata": {
  "kernelspec": {
   "display_name": "Python 3 (ipykernel)",
   "language": "python",
   "name": "python3"
  },
  "language_info": {
   "codemirror_mode": {
    "name": "ipython",
    "version": 3
   },
   "file_extension": ".py",
   "mimetype": "text/x-python",
   "name": "python",
   "nbconvert_exporter": "python",
   "pygments_lexer": "ipython3",
   "version": "3.9.13"
  }
 },
 "nbformat": 4,
 "nbformat_minor": 5
}
